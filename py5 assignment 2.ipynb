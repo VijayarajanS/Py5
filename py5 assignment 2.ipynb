{
 "cells": [
  {
   "cell_type": "code",
   "execution_count": 2,
   "metadata": {},
   "outputs": [],
   "source": [
    "from functools import reduce"
   ]
  },
  {
   "cell_type": "code",
   "execution_count": 11,
   "metadata": {},
   "outputs": [
    {
     "name": "stdout",
     "output_type": "stream",
     "text": [
      "Using inbuilt reduce function:  10\n",
      "Using custom reduce function:  10\n"
     ]
    }
   ],
   "source": [
    "#Write a Python Program to implement your own myreduce() function which works exactly like Python's built-in function reduce()\n",
    "\n",
    "a=[1,2,3,4]\n",
    "print(\"Using inbuilt reduce function: \",reduce(lambda x,y: x+y ,a))\n",
    "\n",
    "def myreduce(a):\n",
    "    j=0\n",
    "    for i in a:\n",
    "        j=j+i\n",
    "    print(\"Using custom reduce function: \",j)\n",
    "\n",
    "myreduce(a)"
   ]
  },
  {
   "cell_type": "code",
   "execution_count": 18,
   "metadata": {},
   "outputs": [
    {
     "name": "stdout",
     "output_type": "stream",
     "text": [
      "Using inbuilt filter function:  [2, 4, 6, 8, 10, 12, 14, 16, 18, 20]\n",
      "Using custom built function:  [2, 4, 6, 8, 10, 12, 14, 16, 18, 20]\n"
     ]
    }
   ],
   "source": [
    "#Write a Python program to implement your own myfilter() function which works exactly like Python's built-in function filter()\n",
    "\n",
    "b= list(range(1,21))\n",
    "print(\"Using inbuilt filter function: \",list(filter(lambda x:(x%2==0), b)))\n",
    "\n",
    "def myfilter(b):\n",
    "    j=[]\n",
    "    for i in b:\n",
    "        if(i%2==0):\n",
    "            j.append(i)\n",
    "            \n",
    "    print(\"Using custom built function: \",j)\n",
    "\n",
    "myfilter(b)"
   ]
  },
  {
   "cell_type": "code",
   "execution_count": 40,
   "metadata": {},
   "outputs": [
    {
     "name": "stdout",
     "output_type": "stream",
     "text": [
      "Result1==> ['A', 'C', 'A', 'D', 'G', 'I', 'L', 'D']\n",
      "Result2==> ['x', 'xx', 'xxx', 'xxxx', 'y', 'yy', 'yyy', 'yyyy', 'z', 'zz', 'zzz', 'zzzz']\n",
      "Result3==> ['x', 'y', 'z', 'xx', 'yy', 'zz', 'xxx', 'yyy', 'zzz', 'xxxx', 'yyyy', 'zzzz']\n",
      "Result4==> [[2], [3], [4], [3], [4], [5], [4], [5], [6]]\n",
      "Result5==> [[2, 3, 4, 5], [3, 4, 5, 6], [4, 5, 6, 7], [5, 6, 7, 8]]\n",
      "Result6==> [(1, 1), (2, 1), (3, 1), (1, 2), (2, 2), (3, 2), (1, 3), (2, 3), (3, 3)]\n"
     ]
    }
   ],
   "source": [
    "#Implement List comprehensions to produce the following lists.\n",
    "\n",
    "#['A', 'C', 'A', 'D', 'G', 'I', ’L’, ‘ D’]\n",
    "\n",
    "string1 = 'ACADGILD'\n",
    "print(\"Result1==>\",[i for i in string1])\n",
    "\n",
    "#['x', 'xx', 'xxx', 'xxxx', 'y', 'yy', 'yyy', 'yyyy', 'z', 'zz', 'zzz', 'zzzz']\n",
    "string2 = ['x','y','z']\n",
    "print(\"Result2==>\",[i*item for item in string2 for i in range(1,5) ])\n",
    "\n",
    "#['x', 'y', 'z', 'xx', 'yy', 'zz', 'xx', 'yy', 'zz', 'xxxx', 'yyyy', 'zzzz']\n",
    "string3 = ['x','y','z']\n",
    "print(\"Result3==>\",[i*item for i in range(1,5) for item in string3])\n",
    "\n",
    "#[[2], [3], [4], [3], [4], [5], [4], [5], [6]]\n",
    "list1 = [2,3,4]\n",
    "print(\"Result4==>\",[[item+i] for i in range(0,3) for item in list1])\n",
    "\n",
    "#[[2, 3, 4, 5], [3, 4, 5, 6], [4, 5, 6, 7], [5, 6, 7, 8]]\n",
    "list2 = [2,3,4,5]\n",
    "print(\"Result5==>\",[[item + i for i in range(0,4)] for item in list2])\n",
    "\n",
    "#[(1, 1), (2, 1), (3, 1), (1, 2), (2, 2), (3, 2), (1, 3), (2, 3), (3, 3)]\n",
    "list3=[1,2,3]\n",
    "print(\"Result6==>\",[(i,j) for j in range(1,4) for i in range(1,4)])"
   ]
  },
  {
   "cell_type": "code",
   "execution_count": 56,
   "metadata": {},
   "outputs": [
    {
     "name": "stdout",
     "output_type": "stream",
     "text": [
      "Length and the longest word in the list is:  (5, 'sheep')\n",
      "Using 'max' function, the same can be achieved in a line. Longest word in the list is: sheep\n"
     ]
    }
   ],
   "source": [
    "#Implement a function longestWord() that takes a list of words and returns the longest one.\n",
    "\n",
    "c= ['heap','sheep','mat','to']\n",
    "\n",
    "def longestWord(c):\n",
    "    word_len=[]\n",
    "    for i in c:\n",
    "        word_len.append((len(i),i))    \n",
    "    print(\"Length and the longest word in the list is: \",sorted(word_len,reverse=True)[0])\n",
    "    \n",
    "longestWord(c)\n",
    "\n",
    "print(\"Using 'max' function, the same can be achieved in a line. Longest word in the list is:\",max(c,key=len))"
   ]
  },
  {
   "cell_type": "code",
   "execution_count": 58,
   "metadata": {},
   "outputs": [
    {
     "name": "stdout",
     "output_type": "stream",
     "text": [
      "Please enter the length: 24\n",
      "Please enter the width: 30\n",
      "Please enter the height: 18\n",
      "The sides of the triangle are 24.000000, 30.000000 and 18.000000, the perimeter is 36.000000 and the area of the triangle is 216.000000\n"
     ]
    }
   ],
   "source": [
    "#Write a Python Program(with class concepts) to find the area of the triangle using the below formula.\n",
    "\n",
    "\n",
    "class triangle:\n",
    "    def __init__(self,a,b,c):\n",
    "        self.a = a\n",
    "        self.b = b\n",
    "        self.c = c\n",
    "    def __str__(self):\n",
    "        return \"The sides of the triangle are %f, %f and %f\" %(self.a,self.b,self.c)\n",
    "    \n",
    "class area(triangle):\n",
    "    def __init__(self,perimeter,*args):\n",
    "        super(area,self).__init__(*args)\n",
    "        self.s = perimeter\n",
    "    def __str__(self):\n",
    "        return super(area,self).__str__() + \", the perimeter is %f and the area of the triangle is %f\" %(self.s,((self.s*(self.s-a)*(self.s-b)*(self.s-c)) ** 0.5))\n",
    "    \n",
    "a = float(input(\"Please enter the length: \"))\n",
    "b = float(input(\"Please enter the width: \"))\n",
    "c = float(input(\"Please enter the height: \"))\n",
    "\n",
    "perimeter = (a+b+c)/2\n",
    "\n",
    "obj1 = area(perimeter,a,b,c)\n",
    "\n",
    "print(obj1)"
   ]
  },
  {
   "cell_type": "code",
   "execution_count": 79,
   "metadata": {},
   "outputs": [
    {
     "data": {
      "text/plain": [
       "\"The words for which length is greater than 4 in the list ['heap', 'sheep', 'mat', 'to', 'happy'], are ['sheep', 'happy']\""
      ]
     },
     "execution_count": 79,
     "metadata": {},
     "output_type": "execute_result"
    }
   ],
   "source": [
    "#Write a function filter_long_words() that takes a list of words and an integer n and returns the list of words that are longer than n.\n",
    "\n",
    "l=4\n",
    "c= ['heap','sheep','mat','to','happy']\n",
    "\n",
    "def filter_long_words(c):\n",
    "    return \"The words for which length is greater than %d in the list %s, are %s\" %(l,c,list(filter(lambda x: len(x)>l , c)))\n",
    "\n",
    "filter_long_words(c)"
   ]
  },
  {
   "cell_type": "code",
   "execution_count": 74,
   "metadata": {},
   "outputs": [
    {
     "name": "stdout",
     "output_type": "stream",
     "text": [
      "The length of the words in the list ['ab', 'cde', 'erty'] are [2, 3, 4]\n"
     ]
    }
   ],
   "source": [
    "#Write a Python program using function concept that maps list of words into a list of integers representing the lengths of the corresponding words.\n",
    "\n",
    "a= ['ab','cde','erty']\n",
    "print(\"The length of the words in the list {} are {}\".format(a,list(map(len,a))))\n"
   ]
  },
  {
   "cell_type": "code",
   "execution_count": 87,
   "metadata": {},
   "outputs": [
    {
     "name": "stdout",
     "output_type": "stream",
     "text": [
      "Enter the word to check if vowel: q\n",
      "Vowel ? - False\n"
     ]
    }
   ],
   "source": [
    "#Write a Python function which takes a character (i.e. a string of length 1) and returns True if it is a vowel, False otherwise.\n",
    "\n",
    "vowel = lambda x: True if((x=='a')|(x=='e')|(x=='i')|(x=='o')|(x=='u')) else False\n",
    "\n",
    "w  = input(\"Enter the word to check if vowel: \")\n",
    "print(\"Vowel ? -\",vowel(w))\n"
   ]
  }
 ],
 "metadata": {
  "kernelspec": {
   "display_name": "Python 3",
   "language": "python",
   "name": "python3"
  },
  "language_info": {
   "codemirror_mode": {
    "name": "ipython",
    "version": 3
   },
   "file_extension": ".py",
   "mimetype": "text/x-python",
   "name": "python",
   "nbconvert_exporter": "python",
   "pygments_lexer": "ipython3",
   "version": "3.7.6"
  }
 },
 "nbformat": 4,
 "nbformat_minor": 4
}
